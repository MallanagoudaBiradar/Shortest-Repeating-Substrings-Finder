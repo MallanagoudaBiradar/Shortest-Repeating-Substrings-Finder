{
 "cells": [
  {
   "cell_type": "code",
   "execution_count": 1,
   "metadata": {},
   "outputs": [
    {
     "name": "stdout",
     "output_type": "stream",
     "text": [
      "x = 3\n",
      "Answer: acca\n",
      "\n",
      "x = 4\n",
      "Answer: acca\n",
      "\n",
      "x = 5\n",
      "Answer: bccdb cdbac\n",
      "\n",
      "x = 6\n",
      "Answer: abccdba\n",
      "\n",
      "x = 7\n",
      "Answer: abccdba\n",
      "\n",
      "x = 8\n",
      "Answer: not-found\n"
     ]
    }
   ],
   "source": [
    "def print_shortest_substrings(s, x):\n",
    "    shortest_substrings = []\n",
    "    shortest_length = float('inf')\n",
    "\n",
    "    for i in range(len(s)):\n",
    "\n",
    "        index = s[i+1:].find(s[i])\n",
    "\n",
    "        if index != -1: \n",
    "            length = index + 2\n",
    "            if length >= x and length <= shortest_length:\n",
    "                if length < shortest_length:\n",
    "                    shortest_substrings = []\n",
    "                    shortest_length = length\n",
    "                substring = s[i:i+length]\n",
    "                shortest_substrings.append(substring)\n",
    "\n",
    "    if shortest_substrings:\n",
    "        print(\"Answer:\", \" \".join(shortest_substrings))\n",
    "    else:\n",
    "        print(\"Answer: not-found\")\n",
    "\n",
    "s = \"abccdbacca\"\n",
    "\n",
    "x = 3\n",
    "print(\"x =\", x)\n",
    "print_shortest_substrings(s, x)\n",
    "\n",
    "x = 4\n",
    "print(\"\\nx =\", x)\n",
    "print_shortest_substrings(s, x)\n",
    "\n",
    "x = 5\n",
    "print(\"\\nx =\", x)\n",
    "print_shortest_substrings(s, x)\n",
    "\n",
    "x = 6\n",
    "print(\"\\nx =\", x)\n",
    "print_shortest_substrings(s, x)\n",
    "\n",
    "x = 7\n",
    "print(\"\\nx =\", x)\n",
    "print_shortest_substrings(s, x)\n",
    "\n",
    "x = 8\n",
    "print(\"\\nx =\", x)\n",
    "print_shortest_substrings(s, x)\n"
   ]
  }
 ],
 "metadata": {
  "kernelspec": {
   "display_name": "Python 3",
   "language": "python",
   "name": "python3"
  },
  "language_info": {
   "codemirror_mode": {
    "name": "ipython",
    "version": 3
   },
   "file_extension": ".py",
   "mimetype": "text/x-python",
   "name": "python",
   "nbconvert_exporter": "python",
   "pygments_lexer": "ipython3",
   "version": "3.11.7"
  }
 },
 "nbformat": 4,
 "nbformat_minor": 2
}
